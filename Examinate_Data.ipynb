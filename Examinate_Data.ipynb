{
 "cells": [
  {
   "cell_type": "markdown",
   "id": "295a74bc",
   "metadata": {
    "id": "295a74bc"
   },
   "source": [
    "# 1. Explore the Data"
   ]
  },
  {
   "cell_type": "code",
   "execution_count": 2,
   "id": "4b54a794",
   "metadata": {
    "executionInfo": {
     "elapsed": 356,
     "status": "ok",
     "timestamp": 1645694487566,
     "user": {
      "displayName": "Quach Phu Quy (K15 HCM)",
      "photoUrl": "https://lh3.googleusercontent.com/a/default-user=s64",
      "userId": "11650086992989014593"
     },
     "user_tz": -420
    },
    "id": "4b54a794"
   },
   "outputs": [
    {
     "name": "stderr",
     "output_type": "stream",
     "text": [
      "Using TensorFlow backend.\n"
     ]
    }
   ],
   "source": [
    "import tensorflow as tf\n",
    "from IPython.display import clear_output\n",
    "from tensorflow.keras.preprocessing import image\n",
    "import matplotlib.pyplot as plt\n",
    "import seaborn as sns\n",
    "import pandas as pd\n",
    "import numpy as np\n",
    "import time\n",
    "import cv2\n",
    "import os\n",
    "from utils.load_image import count_img_emotion\n",
    "from utils.load_image import load_data\n",
    "from utils.load_image import plot_data"
   ]
  },
  {
   "cell_type": "code",
   "execution_count": 4,
   "id": "2cfa54bd",
   "metadata": {},
   "outputs": [
    {
     "name": "stdout",
     "output_type": "stream",
     "text": [
      "\n",
      " FER-2013 DATASET \n",
      "\n",
      "Total train: 24176\n",
      "{'angry': 3995, 'happy': 7215, 'neutral': 4965, 'sad': 4830, 'surprise': 3171}\n",
      "\n",
      "Total test: 6043\n",
      "{'angry': 958, 'happy': 1774, 'neutral': 1233, 'sad': 1247, 'surprise': 831}\n"
     ]
    }
   ],
   "source": [
    "test_path_FER = r'D:\\Machine_Learning\\Facial Expression\\data\\FER2013\\FER2013_test'\n",
    "train_path_FER = r'D:\\Machine_Learning\\Facial Expression\\data\\FER2013\\FER2013_train'\n",
    "\n",
    "total_train = count_img_emotion(train_path_FER)\n",
    "total_test = count_img_emotion(test_path_FER)\n",
    "\n",
    "print(\"\\n FER-2013 DATASET \\n\")\n",
    "print(\"Total train:\", sum(total_train.values()))\n",
    "print(total_train)\n",
    "print()\n",
    "print(\"Total test:\", sum(total_test.values()))\n",
    "print(total_test)"
   ]
  },
  {
   "cell_type": "code",
   "execution_count": 5,
   "id": "62640f48",
   "metadata": {},
   "outputs": [
    {
     "name": "stdout",
     "output_type": "stream",
     "text": [
      "\n",
      " AffectNet_Kaggle DATASET \n",
      "\n",
      "Total train: 33803\n",
      "{'anger': 5000, 'disgust': 3803, 'fear': 5000, 'happy': 5000, 'neutral': 5000, 'sad': 5000, 'surprise': 5000}\n",
      "\n",
      "Total test: 4000\n",
      "{'anger': 500, 'contempt': 500, 'disgust': 500, 'fear': 500, 'happy': 500, 'neutral': 500, 'sad': 500, 'surprise': 500}\n"
     ]
    }
   ],
   "source": [
    "train_path_kaggle = r\"D:\\Machine_Learning\\Facial Expression\\data\\Kaggle\\Kaggle_train_class\"\n",
    "test_path_kaggle = r\"D:\\Machine_Learning\\Facial Expression\\data\\Kaggle\\val_class\"\n",
    "\n",
    "total_train = count_img_emotion(train_path_kaggle)\n",
    "total_test = count_img_emotion(test_path_kaggle)\n",
    "\n",
    "print(\"\\n AffectNet_Kaggle DATASET \\n\")\n",
    "print(\"Total train:\", sum(total_train.values()))\n",
    "print(total_train)\n",
    "print()\n",
    "print(\"Total test:\", sum(total_test.values()))\n",
    "print(total_test)"
   ]
  },
  {
   "cell_type": "code",
   "execution_count": 6,
   "id": "dac78496",
   "metadata": {
    "colab": {
     "base_uri": "https://localhost:8080/",
     "height": 369
    },
    "executionInfo": {
     "elapsed": 3697,
     "status": "ok",
     "timestamp": 1645694499114,
     "user": {
      "displayName": "Quach Phu Quy (K15 HCM)",
      "photoUrl": "https://lh3.googleusercontent.com/a/default-user=s64",
      "userId": "11650086992989014593"
     },
     "user_tz": -420
    },
    "id": "dac78496",
    "outputId": "613c2f33-d1ea-40e7-8c1f-63d5b63a6fac"
   },
   "outputs": [
    {
     "name": "stdout",
     "output_type": "stream",
     "text": [
      "\n",
      " NEW DATA \n",
      "\n",
      "Total of images: 57277\n",
      "{'angry': 10411, 'happy': 14273, 'neutral': 11585, 'sad': 11528, 'surprise': 9480} \n",
      "\n"
     ]
    },
    {
     "data": {
      "image/png": "[encoded data removed]",
      "text/plain": [
       "<Figure size 432x288 with 1 Axes>"
      ]
     },
     "metadata": {
      "needs_background": "light"
     },
     "output_type": "display_data"
    }
   ],
   "source": [
    "path = 'D:\\Machine_Learning\\Facial Expression\\data\\FER + Kaggle'\n",
    "\n",
    "number_of_img = count_img_emotion(path)\n",
    "\n",
    "print(\"\\n NEW DATA \\n\")\n",
    "\n",
    "print(\"Total of images:\", sum(number_of_img.values()))\n",
    "print(number_of_img, \"\\n\")\n",
    "\n",
    "# Plot training dataset\n",
    "names_train = list(number_of_img.keys())\n",
    "values_train = list(number_of_img.values())\n",
    "plt.bar(range(len(number_of_img)), values_train, tick_label=names_train)\n",
    "plt.title(\"Training dataset\", fontsize = 14)\n",
    "plt.show()"
   ]
  },
  {
   "cell_type": "code",
   "execution_count": 8,
   "id": "bfb75372",
   "metadata": {},
   "outputs": [
    {
     "name": "stdout",
     "output_type": "stream",
     "text": [
      "\n",
      " NEW DATASET \n",
      "\n",
      "Total train: 49176\n",
      "{'angry': 8995, 'happy': 12215, 'neutral': 9965, 'sad': 9830, 'surprise': 8171}\n",
      "\n",
      "Total test: 8543\n",
      "{'angry': 1458, 'happy': 2274, 'neutral': 1733, 'sad': 1747, 'surprise': 1331}\n"
     ]
    },
    {
     "data": {
      "image/png": "[encoded data removed]",
      "text/plain": [
       "<Figure size 1008x360 with 2 Axes>"
      ]
     },
     "metadata": {
      "needs_background": "light"
     },
     "output_type": "display_data"
    }
   ],
   "source": [
    "test_path_FER = r\"D:\\Machine_Learning\\Facial Expression\\data\\New Data\\test\"\n",
    "train_path_FER = r\"D:\\Machine_Learning\\Facial Expression\\data\\New Data\\train\"\n",
    "\n",
    "total_train = count_img_emotion(train_path_FER)\n",
    "total_test = count_img_emotion(test_path_FER)\n",
    "\n",
    "print(\"\\n NEW DATASET \\n\")\n",
    "print(\"Total train:\", sum(total_train.values()))\n",
    "print(total_train)\n",
    "print()\n",
    "print(\"Total test:\", sum(total_test.values()))\n",
    "print(total_test)\n",
    "\n",
    "plot_data(total_train, total_test)"
   ]
  },
  {
   "cell_type": "markdown",
   "id": "be1fa8a6",
   "metadata": {
    "id": "be1fa8a6"
   },
   "source": [
    " "
   ]
  }
 ],
 "metadata": {
  "accelerator": "GPU",
  "colab": {
   "collapsed_sections": [],
   "name": "Facial-Expression_EDA_CNN.ipynb",
   "provenance": []
  },
  "kernelspec": {
   "display_name": "gputest",
   "language": "python",
   "name": "gputests"
  },
  "language_info": {
   "codemirror_mode": {
    "name": "ipython",
    "version": 3
   },
   "file_extension": ".py",
   "mimetype": "text/x-python",
   "name": "python",
   "nbconvert_exporter": "python",
   "pygments_lexer": "ipython3",
   "version": "3.9.7"
  }
 },
 "nbformat": 4,
 "nbformat_minor": 5
}
