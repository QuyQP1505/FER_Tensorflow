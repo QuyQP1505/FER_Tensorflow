{
  "cells": [
    {
      "cell_type": "code",
      "execution_count": null,
      "metadata": {
        "id": "7xMzyHJNkfgT"
      },
      "outputs": [],
      "source": [
        "import numpy as np\n",
        "import cv2 as cv\n",
        "import os\n",
        "import keras"
      ]
    },
    {
      "cell_type": "code",
      "execution_count": null,
      "metadata": {
        "id": "nfVnUNPAmrw2"
      },
      "outputs": [],
      "source": [
        "DataDir = \"/content/drive/MyDrive/FEC - version 2/FER2013/train\" # training dataset\n",
        "TestDir = \"/content/drive/MyDrive/FEC - version 2/FER2013/test\"\n",
        "Classes = ['angry', 'disgust', 'fear', 'happy', 'neutral', 'sad', 'surprise'] # list of classes\n",
        "from tensorflow.keras.utils import to_categorical\n",
        "\n",
        "def create_data(data):\n",
        "  X, y = [], []\n",
        "  for Class in Classes:\n",
        "      path = os.path.join(data, Class)\n",
        "      class_num = Classes.index(Class) # Label\n",
        "      for img in os.listdir(path):\n",
        "          try:\n",
        "              img_array = cv.imread(os.path.join(path, img), 0)\n",
        "              X.append(img_array)\n",
        "              y.append(class_num)\n",
        "          except Exception as e:\n",
        "              pass\n",
        "\n",
        "  return np.array(X), to_categorical(np.array(y), num_classes=7)\n",
        "\n",
        "X_train, y_train = create_data(DataDir)\n",
        "X_test, y_test = create_data(TestDir)"
      ]
    },
    {
      "cell_type": "code",
      "execution_count": null,
      "metadata": {
        "colab": {
          "base_uri": "https://localhost:8080/"
        },
        "id": "OIgY6jV27bWw",
        "outputId": "d31e2039-c759-4715-9d0f-4562bb01ee7e"
      },
      "outputs": [
        {
          "data": {
            "text/plain": [
              "(28709, 7)"
            ]
          },
          "execution_count": 3,
          "metadata": {},
          "output_type": "execute_result"
        }
      ],
      "source": [
        "y_train.shape"
      ]
    },
    {
      "cell_type": "code",
      "execution_count": null,
      "metadata": {
        "id": "lNdmvRww2P5v"
      },
      "outputs": [],
      "source": [
        "X_train = X_train.reshape(X_train.shape[0], 48, 48, 1)\n",
        "X_test = X_test.reshape(X_test.shape[0], 48, 48, 1)"
      ]
    },
    {
      "cell_type": "code",
      "execution_count": null,
      "metadata": {
        "id": "3-Zjayti2W_-"
      },
      "outputs": [],
      "source": [
        "from keras.preprocessing.image import ImageDataGenerator \n",
        "datagen = ImageDataGenerator( \n",
        "    rescale=1./255,\n",
        "    rotation_range = 10,\n",
        "    horizontal_flip = True,\n",
        "    width_shift_range=0.1,\n",
        "    height_shift_range=0.1,\n",
        "    fill_mode = 'nearest')"
      ]
    },
    {
      "cell_type": "code",
      "execution_count": null,
      "metadata": {
        "id": "zzOEQ9_g260_"
      },
      "outputs": [],
      "source": [
        "datagen.fit(X_train)"
      ]
    },
    {
      "cell_type": "code",
      "execution_count": null,
      "metadata": {
        "id": "T43Ycg9B43t_"
      },
      "outputs": [],
      "source": [
        "testgen = ImageDataGenerator(rescale=1./255)\n",
        "batch_size = 64"
      ]
    },
    {
      "cell_type": "code",
      "execution_count": null,
      "metadata": {
        "id": "FAVyde5746mm"
      },
      "outputs": [],
      "source": [
        "train_flow = datagen.flow(X_train, y_train, batch_size=batch_size) \n",
        "test_flow = testgen.flow(X_test, y_test, batch_size=batch_size)"
      ]
    },
    {
      "cell_type": "code",
      "execution_count": null,
      "metadata": {
        "id": "TGVOeklZ5Fet"
      },
      "outputs": [],
      "source": [
        "from tensorflow.keras.utils import plot_model\n",
        "from keras.models import Model\n",
        "from keras.layers import Input, Dense, Flatten, Dropout, BatchNormalization\n",
        "from keras.layers.convolutional import Conv2D\n",
        "from keras.layers.pooling import MaxPooling2D\n",
        "from keras.layers.merge import concatenate\n",
        "from keras.regularizers import l1, l2\n",
        "from matplotlib import pyplot as plt\n",
        "from sklearn.metrics import confusion_matrix"
      ]
    },
    {
      "cell_type": "code",
      "execution_count": null,
      "metadata": {
        "id": "Fzr_ygoS5Xd5"
      },
      "outputs": [],
      "source": [
        "def get_model(input_shape=(48,48,1)):\n",
        "# first input model\n",
        "  visible = Input(shape=input_shape, name='input')\n",
        "  num_classes = 7\n",
        "\n",
        "  #the 1-st block\n",
        "  conv1_1 = Conv2D(64, kernel_size=3, activation='relu', padding='same', name = 'conv1_1')(visible)\n",
        "  conv1_1 = BatchNormalization()(conv1_1)\n",
        "  conv1_2 = Conv2D(64, kernel_size=3, activation='relu', padding='same', name = 'conv1_2')(conv1_1)\n",
        "  conv1_2 = BatchNormalization()(conv1_2)\n",
        "  pool1_1 = MaxPooling2D(pool_size=(2,2), name = 'pool1_1')(conv1_2)\n",
        "  drop1_1 = Dropout(0.3, name = 'drop1_1')(pool1_1)\n",
        "\n",
        "  #the 2-nd block\n",
        "  conv2_1 = Conv2D(128, kernel_size=3, activation='relu', padding='same', name = 'conv2_1')(drop1_1)\n",
        "  conv2_1 = BatchNormalization()(conv2_1)\n",
        "  conv2_2 = Conv2D(128, kernel_size=3, activation='relu', padding='same', name = 'conv2_2')(conv2_1)\n",
        "  conv2_2 = BatchNormalization()(conv2_2)\n",
        "  conv2_3 = Conv2D(128, kernel_size=3, activation='relu', padding='same', name = 'conv2_3')(conv2_2)\n",
        "  conv2_2 = BatchNormalization()(conv2_3)\n",
        "  pool2_1 = MaxPooling2D(pool_size=(2,2), name = 'pool2_1')(conv2_3)\n",
        "  drop2_1 = Dropout(0.3, name = 'drop2_1')(pool2_1)\n",
        "\n",
        "  #the 3-rd block\n",
        "  conv3_1 = Conv2D(256, kernel_size=3, activation='relu', padding='same', name = 'conv3_1')(drop2_1)\n",
        "  conv3_1 = BatchNormalization()(conv3_1)\n",
        "  conv3_2 = Conv2D(256, kernel_size=3, activation='relu', padding='same', name = 'conv3_2')(conv3_1)\n",
        "  conv3_2 = BatchNormalization()(conv3_2)\n",
        "  conv3_3 = Conv2D(256, kernel_size=3, activation='relu', padding='same', name = 'conv3_3')(conv3_2)\n",
        "  conv3_3 = BatchNormalization()(conv3_3)\n",
        "  conv3_4 = Conv2D(256, kernel_size=3, activation='relu', padding='same', name = 'conv3_4')(conv3_3)\n",
        "  conv3_4 = BatchNormalization()(conv3_4)\n",
        "  pool3_1 = MaxPooling2D(pool_size=(2,2), name = 'pool3_1')(conv3_4)\n",
        "  drop3_1 = Dropout(0.3, name = 'drop3_1')(pool3_1)\n",
        "  \n",
        "  #the 4-th block\n",
        "  conv4_1 = Conv2D(256, kernel_size=3, activation='relu', padding='same', name = 'conv4_1')(drop3_1)\n",
        "  conv4_1 = BatchNormalization()(conv4_1)\n",
        "  conv4_2 = Conv2D(256, kernel_size=3, activation='relu', padding='same', name = 'conv4_2')(conv4_1)\n",
        "  conv4_2 = BatchNormalization()(conv4_2)\n",
        "  conv4_3 = Conv2D(256, kernel_size=3, activation='relu', padding='same', name = 'conv4_3')(conv4_2)\n",
        "  conv4_3 = BatchNormalization()(conv4_3)\n",
        "  conv4_4 = Conv2D(256, kernel_size=3, activation='relu', padding='same', name = 'conv4_4')(conv4_3)\n",
        "  conv4_4 = BatchNormalization()(conv4_4)\n",
        "  pool4_1 = MaxPooling2D(pool_size=(2,2), name = 'pool4_1')(conv4_4)\n",
        "  drop4_1 = Dropout(0.3, name = 'drop4_1')(pool4_1)\n",
        "  \n",
        "  #the 5-th block\n",
        "  conv5_1 = Conv2D(512, kernel_size=3, activation='relu', padding='same', name = 'conv5_1')(drop4_1)\n",
        "  conv5_1 = BatchNormalization()(conv5_1)\n",
        "  conv5_2 = Conv2D(512, kernel_size=3, activation='relu', padding='same', name = 'conv5_2')(conv5_1)\n",
        "  conv5_2 = BatchNormalization()(conv5_2)\n",
        "  conv5_3 = Conv2D(512, kernel_size=3, activation='relu', padding='same', name = 'conv5_3')(conv5_2)\n",
        "  conv5_3 = BatchNormalization()(conv5_3)\n",
        "  conv5_4 = Conv2D(512, kernel_size=3, activation='relu', padding='same', name = 'conv5_4')(conv5_3)\n",
        "  conv5_3 = BatchNormalization()(conv5_3)\n",
        "  pool5_1 = MaxPooling2D(pool_size=(2,2), name = 'pool5_1')(conv5_4)\n",
        "  drop5_1 = Dropout(0.3, name = 'drop5_1')(pool5_1)\n",
        "  \n",
        "  #Flatten and output\n",
        "  flatten = Flatten(name = 'flatten')(drop5_1)\n",
        "  ouput = Dense(num_classes, activation='softmax', name = 'output')(flatten)# create model \n",
        "  model = Model(inputs =visible, outputs = ouput)\n",
        "  \n",
        "  # summary layers\n",
        "  print(model.summary())\n",
        "  \n",
        "  return model"
      ]
    },
    {
      "cell_type": "code",
      "execution_count": null,
      "metadata": {
        "colab": {
          "base_uri": "https://localhost:8080/"
        },
        "id": "oAesw89T5bku",
        "outputId": "6b65ef59-f0d4-402c-aa67-2a670128b50e"
      },
      "outputs": [
        {
          "name": "stdout",
          "output_type": "stream",
          "text": [
            "Model: \"model\"\n",
            "_________________________________________________________________\n",
            " Layer (type)                Output Shape              Param #   \n",
            "=================================================================\n",
            " input (InputLayer)          [(None, 48, 48, 1)]       0         \n",
            "                                                                 \n",
            " conv1_1 (Conv2D)            (None, 48, 48, 64)        640       \n",
            "                                                                 \n",
            " batch_normalization (BatchN  (None, 48, 48, 64)       256       \n",
            " ormalization)                                                   \n",
            "                                                                 \n",
            " conv1_2 (Conv2D)            (None, 48, 48, 64)        36928     \n",
            "                                                                 \n",
            " batch_normalization_1 (Batc  (None, 48, 48, 64)       256       \n",
            " hNormalization)                                                 \n",
            "                                                                 \n",
            " pool1_1 (MaxPooling2D)      (None, 24, 24, 64)        0         \n",
            "                                                                 \n",
            " drop1_1 (Dropout)           (None, 24, 24, 64)        0         \n",
            "                                                                 \n",
            " conv2_1 (Conv2D)            (None, 24, 24, 128)       73856     \n",
            "                                                                 \n",
            " batch_normalization_2 (Batc  (None, 24, 24, 128)      512       \n",
            " hNormalization)                                                 \n",
            "                                                                 \n",
            " conv2_2 (Conv2D)            (None, 24, 24, 128)       147584    \n",
            "                                                                 \n",
            " batch_normalization_3 (Batc  (None, 24, 24, 128)      512       \n",
            " hNormalization)                                                 \n",
            "                                                                 \n",
            " conv2_3 (Conv2D)            (None, 24, 24, 128)       147584    \n",
            "                                                                 \n",
            " pool2_1 (MaxPooling2D)      (None, 12, 12, 128)       0         \n",
            "                                                                 \n",
            " drop2_1 (Dropout)           (None, 12, 12, 128)       0         \n",
            "                                                                 \n",
            " conv3_1 (Conv2D)            (None, 12, 12, 256)       295168    \n",
            "                                                                 \n",
            " batch_normalization_5 (Batc  (None, 12, 12, 256)      1024      \n",
            " hNormalization)                                                 \n",
            "                                                                 \n",
            " conv3_2 (Conv2D)            (None, 12, 12, 256)       590080    \n",
            "                                                                 \n",
            " batch_normalization_6 (Batc  (None, 12, 12, 256)      1024      \n",
            " hNormalization)                                                 \n",
            "                                                                 \n",
            " conv3_3 (Conv2D)            (None, 12, 12, 256)       590080    \n",
            "                                                                 \n",
            " batch_normalization_7 (Batc  (None, 12, 12, 256)      1024      \n",
            " hNormalization)                                                 \n",
            "                                                                 \n",
            " conv3_4 (Conv2D)            (None, 12, 12, 256)       590080    \n",
            "                                                                 \n",
            " batch_normalization_8 (Batc  (None, 12, 12, 256)      1024      \n",
            " hNormalization)                                                 \n",
            "                                                                 \n",
            " pool3_1 (MaxPooling2D)      (None, 6, 6, 256)         0         \n",
            "                                                                 \n",
            " drop3_1 (Dropout)           (None, 6, 6, 256)         0         \n",
            "                                                                 \n",
            " conv4_1 (Conv2D)            (None, 6, 6, 256)         590080    \n",
            "                                                                 \n",
            " batch_normalization_9 (Batc  (None, 6, 6, 256)        1024      \n",
            " hNormalization)                                                 \n",
            "                                                                 \n",
            " conv4_2 (Conv2D)            (None, 6, 6, 256)         590080    \n",
            "                                                                 \n",
            " batch_normalization_10 (Bat  (None, 6, 6, 256)        1024      \n",
            " chNormalization)                                                \n",
            "                                                                 \n",
            " conv4_3 (Conv2D)            (None, 6, 6, 256)         590080    \n",
            "                                                                 \n",
            " batch_normalization_11 (Bat  (None, 6, 6, 256)        1024      \n",
            " chNormalization)                                                \n",
            "                                                                 \n",
            " conv4_4 (Conv2D)            (None, 6, 6, 256)         590080    \n",
            "                                                                 \n",
            " batch_normalization_12 (Bat  (None, 6, 6, 256)        1024      \n",
            " chNormalization)                                                \n",
            "                                                                 \n",
            " pool4_1 (MaxPooling2D)      (None, 3, 3, 256)         0         \n",
            "                                                                 \n",
            " drop4_1 (Dropout)           (None, 3, 3, 256)         0         \n",
            "                                                                 \n",
            " conv5_1 (Conv2D)            (None, 3, 3, 512)         1180160   \n",
            "                                                                 \n",
            " batch_normalization_13 (Bat  (None, 3, 3, 512)        2048      \n",
            " chNormalization)                                                \n",
            "                                                                 \n",
            " conv5_2 (Conv2D)            (None, 3, 3, 512)         2359808   \n",
            "                                                                 \n",
            " batch_normalization_14 (Bat  (None, 3, 3, 512)        2048      \n",
            " chNormalization)                                                \n",
            "                                                                 \n",
            " conv5_3 (Conv2D)            (None, 3, 3, 512)         2359808   \n",
            "                                                                 \n",
            " batch_normalization_15 (Bat  (None, 3, 3, 512)        2048      \n",
            " chNormalization)                                                \n",
            "                                                                 \n",
            " conv5_4 (Conv2D)            (None, 3, 3, 512)         2359808   \n",
            "                                                                 \n",
            " pool5_1 (MaxPooling2D)      (None, 1, 1, 512)         0         \n",
            "                                                                 \n",
            " drop5_1 (Dropout)           (None, 1, 1, 512)         0         \n",
            "                                                                 \n",
            " flatten (Flatten)           (None, 512)               0         \n",
            "                                                                 \n",
            " output (Dense)              (None, 7)                 3591      \n",
            "                                                                 \n",
            "=================================================================\n",
            "Total params: 13,111,367\n",
            "Trainable params: 13,103,431\n",
            "Non-trainable params: 7,936\n",
            "_________________________________________________________________\n",
            "None\n"
          ]
        }
      ],
      "source": [
        "model = get_model()\n",
        "model.compile(optimizer='adam', loss='categorical_crossentropy', metrics=['accuracy'])"
      ]
    },
    {
      "cell_type": "code",
      "execution_count": null,
      "metadata": {
        "colab": {
          "background_save": true,
          "base_uri": "https://localhost:8080/"
        },
        "id": "dfXul_SWC81y",
        "outputId": "5fa640ca-a375-457b-9f2e-40a80c4b38b5"
      },
      "outputs": [
        {
          "name": "stdout",
          "output_type": "stream",
          "text": [
            "Epoch 1/100\n"
          ]
        },
        {
          "name": "stderr",
          "output_type": "stream",
          "text": [
            "/usr/local/lib/python3.7/dist-packages/ipykernel_launcher.py:7: UserWarning: `Model.fit_generator` is deprecated and will be removed in a future version. Please use `Model.fit`, which supports generators.\n",
            "  import sys\n"
          ]
        },
        {
          "name": "stdout",
          "output_type": "stream",
          "text": [
            "448/448 [==============================] - 47s 77ms/step - loss: 2.1904 - accuracy: 0.2444 - val_loss: 1.8192 - val_accuracy: 0.2476\n",
            "Epoch 2/100\n",
            "448/448 [==============================] - 33s 74ms/step - loss: 1.6110 - accuracy: 0.3611 - val_loss: 1.5667 - val_accuracy: 0.4085\n",
            "Epoch 3/100\n",
            "448/448 [==============================] - 34s 76ms/step - loss: 1.4317 - accuracy: 0.4424 - val_loss: 1.3918 - val_accuracy: 0.4790\n",
            "Epoch 4/100\n",
            "448/448 [==============================] - 34s 76ms/step - loss: 1.3428 - accuracy: 0.4890 - val_loss: 1.3606 - val_accuracy: 0.4951\n",
            "Epoch 5/100\n",
            "448/448 [==============================] - 34s 76ms/step - loss: 1.2734 - accuracy: 0.5163 - val_loss: 1.3102 - val_accuracy: 0.5192\n",
            "Epoch 6/100\n",
            "448/448 [==============================] - 34s 76ms/step - loss: 1.2327 - accuracy: 0.5339 - val_loss: 1.4950 - val_accuracy: 0.4700\n",
            "Epoch 7/100\n",
            "448/448 [==============================] - 34s 76ms/step - loss: 1.1951 - accuracy: 0.5477 - val_loss: 1.2103 - val_accuracy: 0.5502\n",
            "Epoch 8/100\n",
            "448/448 [==============================] - 34s 76ms/step - loss: 1.1552 - accuracy: 0.5668 - val_loss: 1.2099 - val_accuracy: 0.5419\n",
            "Epoch 9/100\n",
            "448/448 [==============================] - 34s 76ms/step - loss: 1.1361 - accuracy: 0.5748 - val_loss: 1.2584 - val_accuracy: 0.5202\n",
            "Epoch 10/100\n",
            "448/448 [==============================] - 34s 76ms/step - loss: 1.1064 - accuracy: 0.5854 - val_loss: 1.1013 - val_accuracy: 0.5945\n",
            "Epoch 11/100\n",
            "448/448 [==============================] - 34s 76ms/step - loss: 1.0828 - accuracy: 0.5952 - val_loss: 1.2405 - val_accuracy: 0.5398\n",
            "Epoch 12/100\n",
            "448/448 [==============================] - 34s 76ms/step - loss: 1.0649 - accuracy: 0.6015 - val_loss: 1.1495 - val_accuracy: 0.5787\n",
            "Epoch 13/100\n",
            "448/448 [==============================] - 34s 76ms/step - loss: 1.0505 - accuracy: 0.6078 - val_loss: 1.0714 - val_accuracy: 0.6002\n",
            "Epoch 14/100\n",
            "448/448 [==============================] - 34s 76ms/step - loss: 1.0306 - accuracy: 0.6150 - val_loss: 1.1363 - val_accuracy: 0.5807\n",
            "Epoch 15/100\n",
            "448/448 [==============================] - 34s 76ms/step - loss: 1.0171 - accuracy: 0.6197 - val_loss: 1.0475 - val_accuracy: 0.6077\n",
            "Epoch 16/100\n",
            "448/448 [==============================] - 34s 76ms/step - loss: 1.0030 - accuracy: 0.6275 - val_loss: 1.0934 - val_accuracy: 0.5885\n",
            "Epoch 17/100\n",
            "448/448 [==============================] - 34s 76ms/step - loss: 0.9863 - accuracy: 0.6337 - val_loss: 1.0195 - val_accuracy: 0.6193\n",
            "Epoch 18/100\n",
            "448/448 [==============================] - 34s 76ms/step - loss: 0.9750 - accuracy: 0.6369 - val_loss: 1.0976 - val_accuracy: 0.5965\n",
            "Epoch 19/100\n",
            "448/448 [==============================] - 34s 76ms/step - loss: 0.9593 - accuracy: 0.6472 - val_loss: 1.0690 - val_accuracy: 0.6108\n",
            "Epoch 20/100\n",
            "448/448 [==============================] - 34s 76ms/step - loss: 0.9372 - accuracy: 0.6521 - val_loss: 1.0243 - val_accuracy: 0.6280\n",
            "Epoch 21/100\n",
            "448/448 [==============================] - 34s 76ms/step - loss: 0.9364 - accuracy: 0.6574 - val_loss: 1.0803 - val_accuracy: 0.6213\n",
            "Epoch 22/100\n",
            "448/448 [==============================] - 34s 75ms/step - loss: 0.9130 - accuracy: 0.6612 - val_loss: 1.0053 - val_accuracy: 0.6365\n",
            "Epoch 23/100\n",
            "448/448 [==============================] - 34s 75ms/step - loss: 0.8993 - accuracy: 0.6685 - val_loss: 1.0521 - val_accuracy: 0.6204\n",
            "Epoch 24/100\n",
            "448/448 [==============================] - 34s 76ms/step - loss: 0.8917 - accuracy: 0.6697 - val_loss: 1.0656 - val_accuracy: 0.6251\n",
            "Epoch 25/100\n",
            "448/448 [==============================] - 34s 75ms/step - loss: 0.8720 - accuracy: 0.6833 - val_loss: 0.9500 - val_accuracy: 0.6530\n",
            "Epoch 26/100\n",
            "448/448 [==============================] - 34s 75ms/step - loss: 0.8628 - accuracy: 0.6832 - val_loss: 0.9850 - val_accuracy: 0.6305\n",
            "Epoch 27/100\n",
            "448/448 [==============================] - 34s 76ms/step - loss: 0.8452 - accuracy: 0.6915 - val_loss: 1.0147 - val_accuracy: 0.6388\n",
            "Epoch 28/100\n",
            "448/448 [==============================] - 34s 76ms/step - loss: 0.8312 - accuracy: 0.6988 - val_loss: 1.0135 - val_accuracy: 0.6354\n",
            "Epoch 29/100\n",
            "448/448 [==============================] - 34s 75ms/step - loss: 0.8146 - accuracy: 0.7036 - val_loss: 0.9745 - val_accuracy: 0.6594\n",
            "Epoch 30/100\n",
            "448/448 [==============================] - 34s 75ms/step - loss: 0.8005 - accuracy: 0.7041 - val_loss: 0.9393 - val_accuracy: 0.6604\n",
            "Epoch 31/100\n",
            "448/448 [==============================] - 34s 75ms/step - loss: 0.7895 - accuracy: 0.7109 - val_loss: 0.9367 - val_accuracy: 0.6633\n",
            "Epoch 32/100\n",
            "448/448 [==============================] - 34s 75ms/step - loss: 0.7813 - accuracy: 0.7142 - val_loss: 0.9681 - val_accuracy: 0.6555\n",
            "Epoch 33/100\n",
            "448/448 [==============================] - 34s 75ms/step - loss: 0.7652 - accuracy: 0.7220 - val_loss: 1.0210 - val_accuracy: 0.6549\n",
            "Epoch 34/100\n",
            "448/448 [==============================] - 34s 76ms/step - loss: 0.7579 - accuracy: 0.7232 - val_loss: 0.9671 - val_accuracy: 0.6562\n",
            "Epoch 35/100\n",
            "448/448 [==============================] - 34s 75ms/step - loss: 0.7363 - accuracy: 0.7304 - val_loss: 1.0115 - val_accuracy: 0.6431\n",
            "Epoch 36/100\n",
            "448/448 [==============================] - 34s 75ms/step - loss: 0.7277 - accuracy: 0.7337 - val_loss: 0.9338 - val_accuracy: 0.6675\n",
            "Epoch 37/100\n",
            "448/448 [==============================] - 34s 76ms/step - loss: 0.7175 - accuracy: 0.7362 - val_loss: 0.9383 - val_accuracy: 0.6765\n",
            "Epoch 38/100\n",
            "448/448 [==============================] - 34s 75ms/step - loss: 0.7032 - accuracy: 0.7464 - val_loss: 0.9877 - val_accuracy: 0.6429\n",
            "Epoch 39/100\n",
            "448/448 [==============================] - 34s 75ms/step - loss: 0.6967 - accuracy: 0.7444 - val_loss: 0.9637 - val_accuracy: 0.6723\n",
            "Epoch 40/100\n",
            "448/448 [==============================] - 34s 75ms/step - loss: 0.6834 - accuracy: 0.7504 - val_loss: 0.9901 - val_accuracy: 0.6567\n",
            "Epoch 41/100\n",
            "448/448 [==============================] - 34s 75ms/step - loss: 0.6729 - accuracy: 0.7566 - val_loss: 0.9991 - val_accuracy: 0.6629\n",
            "Epoch 42/100\n",
            "448/448 [==============================] - 34s 75ms/step - loss: 0.6641 - accuracy: 0.7601 - val_loss: 0.9945 - val_accuracy: 0.6613\n",
            "Epoch 43/100\n",
            "448/448 [==============================] - 34s 75ms/step - loss: 0.6541 - accuracy: 0.7637 - val_loss: 0.9873 - val_accuracy: 0.6624\n",
            "Epoch 44/100\n",
            "448/448 [==============================] - 34s 76ms/step - loss: 0.6426 - accuracy: 0.7657 - val_loss: 0.9982 - val_accuracy: 0.6704\n",
            "Epoch 45/100\n",
            "448/448 [==============================] - 34s 75ms/step - loss: 0.6271 - accuracy: 0.7684 - val_loss: 0.9887 - val_accuracy: 0.6801\n",
            "Epoch 46/100\n",
            "448/448 [==============================] - 34s 76ms/step - loss: 0.6203 - accuracy: 0.7754 - val_loss: 1.0595 - val_accuracy: 0.6477\n",
            "Epoch 47/100\n",
            "448/448 [==============================] - 34s 76ms/step - loss: 0.6071 - accuracy: 0.7793 - val_loss: 1.0869 - val_accuracy: 0.6308\n",
            "Epoch 48/100\n",
            "448/448 [==============================] - 34s 75ms/step - loss: 0.5976 - accuracy: 0.7875 - val_loss: 0.9855 - val_accuracy: 0.6773\n",
            "Epoch 49/100\n",
            "448/448 [==============================] - 34s 75ms/step - loss: 0.5887 - accuracy: 0.7862 - val_loss: 1.0094 - val_accuracy: 0.6751\n",
            "Epoch 50/100\n",
            "448/448 [==============================] - 34s 75ms/step - loss: 0.5817 - accuracy: 0.7873 - val_loss: 0.9968 - val_accuracy: 0.6741\n",
            "Epoch 51/100\n",
            "448/448 [==============================] - 34s 75ms/step - loss: 0.5693 - accuracy: 0.7948 - val_loss: 1.0038 - val_accuracy: 0.6797\n",
            "Epoch 52/100\n",
            "448/448 [==============================] - 34s 75ms/step - loss: 0.5623 - accuracy: 0.7950 - val_loss: 0.9816 - val_accuracy: 0.6775\n",
            "Epoch 53/100\n",
            "448/448 [==============================] - 34s 75ms/step - loss: 0.5516 - accuracy: 0.8009 - val_loss: 1.0113 - val_accuracy: 0.6666\n",
            "Epoch 54/100\n",
            "448/448 [==============================] - 34s 75ms/step - loss: 0.5496 - accuracy: 0.8022 - val_loss: 1.0140 - val_accuracy: 0.6753\n",
            "Epoch 55/100\n",
            "448/448 [==============================] - 34s 75ms/step - loss: 0.5383 - accuracy: 0.8069 - val_loss: 1.0090 - val_accuracy: 0.6821\n",
            "Epoch 56/100\n",
            "448/448 [==============================] - 34s 75ms/step - loss: 0.5273 - accuracy: 0.8119 - val_loss: 1.0581 - val_accuracy: 0.6721\n",
            "Epoch 57/100\n",
            "448/448 [==============================] - 34s 75ms/step - loss: 0.5173 - accuracy: 0.8159 - val_loss: 1.0543 - val_accuracy: 0.6620\n",
            "Epoch 58/100\n",
            "448/448 [==============================] - 34s 75ms/step - loss: 0.5160 - accuracy: 0.8133 - val_loss: 0.9976 - val_accuracy: 0.6867\n",
            "Epoch 59/100\n",
            "448/448 [==============================] - 34s 75ms/step - loss: 0.4989 - accuracy: 0.8227 - val_loss: 1.0227 - val_accuracy: 0.6863\n",
            "Epoch 60/100\n",
            "448/448 [==============================] - 34s 75ms/step - loss: 0.4929 - accuracy: 0.8233 - val_loss: 1.0897 - val_accuracy: 0.6833\n",
            "Epoch 61/100\n",
            "448/448 [==============================] - 34s 75ms/step - loss: 0.4870 - accuracy: 0.8261 - val_loss: 1.0592 - val_accuracy: 0.6789\n",
            "Epoch 62/100\n",
            "448/448 [==============================] - 34s 75ms/step - loss: 0.4849 - accuracy: 0.8275 - val_loss: 1.0711 - val_accuracy: 0.6857\n",
            "Epoch 63/100\n",
            "448/448 [==============================] - 34s 75ms/step - loss: 0.4651 - accuracy: 0.8355 - val_loss: 1.1398 - val_accuracy: 0.6740\n",
            "Epoch 64/100\n",
            "448/448 [==============================] - 34s 75ms/step - loss: 0.4610 - accuracy: 0.8331 - val_loss: 1.0814 - val_accuracy: 0.6786\n",
            "Epoch 65/100\n",
            "448/448 [==============================] - 34s 75ms/step - loss: 0.4566 - accuracy: 0.8358 - val_loss: 1.0667 - val_accuracy: 0.6893\n",
            "Epoch 66/100\n",
            "448/448 [==============================] - 34s 75ms/step - loss: 0.4528 - accuracy: 0.8365 - val_loss: 1.0707 - val_accuracy: 0.6817\n",
            "Epoch 67/100\n",
            "448/448 [==============================] - 34s 75ms/step - loss: 0.4476 - accuracy: 0.8391 - val_loss: 1.0303 - val_accuracy: 0.6850\n",
            "Epoch 68/100\n",
            "448/448 [==============================] - 34s 75ms/step - loss: 0.4335 - accuracy: 0.8453 - val_loss: 1.1185 - val_accuracy: 0.6762\n",
            "Epoch 69/100\n",
            "448/448 [==============================] - 34s 75ms/step - loss: 0.4311 - accuracy: 0.8461 - val_loss: 1.1013 - val_accuracy: 0.6789\n",
            "Epoch 70/100\n",
            "448/448 [==============================] - 34s 75ms/step - loss: 0.4212 - accuracy: 0.8494 - val_loss: 1.0446 - val_accuracy: 0.6918\n",
            "Epoch 71/100\n",
            "448/448 [==============================] - 34s 76ms/step - loss: 0.4152 - accuracy: 0.8501 - val_loss: 1.0563 - val_accuracy: 0.6886\n",
            "Epoch 72/100\n",
            "448/448 [==============================] - 34s 76ms/step - loss: 0.4122 - accuracy: 0.8524 - val_loss: 1.1194 - val_accuracy: 0.6761\n",
            "Epoch 73/100\n",
            "448/448 [==============================] - 34s 76ms/step - loss: 0.4018 - accuracy: 0.8583 - val_loss: 1.1147 - val_accuracy: 0.6889\n",
            "Epoch 74/100\n",
            "448/448 [==============================] - 34s 76ms/step - loss: 0.3978 - accuracy: 0.8588 - val_loss: 1.1113 - val_accuracy: 0.6921\n",
            "Epoch 75/100\n",
            "448/448 [==============================] - 34s 75ms/step - loss: 0.3894 - accuracy: 0.8614 - val_loss: 1.2766 - val_accuracy: 0.6708\n",
            "Epoch 76/100\n",
            "448/448 [==============================] - 34s 75ms/step - loss: 0.3820 - accuracy: 0.8656 - val_loss: 1.2116 - val_accuracy: 0.6775\n",
            "Epoch 77/100\n",
            "448/448 [==============================] - 34s 75ms/step - loss: 0.3796 - accuracy: 0.8668 - val_loss: 1.1408 - val_accuracy: 0.6768\n",
            "Epoch 78/100\n",
            "448/448 [==============================] - 34s 75ms/step - loss: 0.3790 - accuracy: 0.8631 - val_loss: 1.1665 - val_accuracy: 0.6914\n",
            "Epoch 79/100\n",
            "448/448 [==============================] - 34s 75ms/step - loss: 0.3713 - accuracy: 0.8679 - val_loss: 1.1420 - val_accuracy: 0.6797\n",
            "Epoch 80/100\n",
            "448/448 [==============================] - 34s 75ms/step - loss: 0.3649 - accuracy: 0.8716 - val_loss: 1.1916 - val_accuracy: 0.6835\n",
            "Epoch 81/100\n",
            "448/448 [==============================] - 34s 76ms/step - loss: 0.3579 - accuracy: 0.8727 - val_loss: 1.1980 - val_accuracy: 0.6902\n",
            "Epoch 82/100\n",
            "448/448 [==============================] - 34s 76ms/step - loss: 0.3567 - accuracy: 0.8723 - val_loss: 1.1600 - val_accuracy: 0.6744\n",
            "Epoch 83/100\n",
            "448/448 [==============================] - 34s 76ms/step - loss: 0.3494 - accuracy: 0.8765 - val_loss: 1.2146 - val_accuracy: 0.6838\n",
            "Epoch 84/100\n",
            "448/448 [==============================] - 34s 76ms/step - loss: 0.3484 - accuracy: 0.8759 - val_loss: 1.2113 - val_accuracy: 0.6916\n",
            "Epoch 85/100\n",
            "448/448 [==============================] - 34s 76ms/step - loss: 0.3372 - accuracy: 0.8793 - val_loss: 1.2526 - val_accuracy: 0.6902\n",
            "Epoch 86/100\n",
            "448/448 [==============================] - 34s 76ms/step - loss: 0.3353 - accuracy: 0.8793 - val_loss: 1.2320 - val_accuracy: 0.6715\n",
            "Epoch 87/100\n",
            "448/448 [==============================] - 34s 76ms/step - loss: 0.3407 - accuracy: 0.8784 - val_loss: 1.2041 - val_accuracy: 0.6767\n",
            "Epoch 88/100\n",
            "448/448 [==============================] - 34s 76ms/step - loss: 0.3324 - accuracy: 0.8804 - val_loss: 1.1881 - val_accuracy: 0.6875\n",
            "Epoch 89/100\n",
            "448/448 [==============================] - 34s 76ms/step - loss: 0.3259 - accuracy: 0.8844 - val_loss: 1.2908 - val_accuracy: 0.6779\n",
            "Epoch 90/100\n",
            "448/448 [==============================] - 34s 76ms/step - loss: 0.3195 - accuracy: 0.8864 - val_loss: 1.1863 - val_accuracy: 0.6767\n",
            "Epoch 91/100\n",
            "448/448 [==============================] - 34s 76ms/step - loss: 0.3166 - accuracy: 0.8884 - val_loss: 1.2139 - val_accuracy: 0.6864\n",
            "Epoch 92/100\n",
            "448/448 [==============================] - 34s 76ms/step - loss: 0.3082 - accuracy: 0.8908 - val_loss: 1.2979 - val_accuracy: 0.6868\n",
            "Epoch 93/100\n",
            "448/448 [==============================] - 34s 76ms/step - loss: 0.3037 - accuracy: 0.8930 - val_loss: 1.1599 - val_accuracy: 0.6904\n",
            "Epoch 94/100\n",
            "448/448 [==============================] - 34s 76ms/step - loss: 0.3025 - accuracy: 0.8915 - val_loss: 1.2596 - val_accuracy: 0.6806\n",
            "Epoch 95/100\n",
            "448/448 [==============================] - 34s 76ms/step - loss: 0.3018 - accuracy: 0.8925 - val_loss: 1.2733 - val_accuracy: 0.6793\n",
            "Epoch 96/100\n",
            "448/448 [==============================] - 34s 76ms/step - loss: 0.2922 - accuracy: 0.8964 - val_loss: 1.2515 - val_accuracy: 0.6939\n",
            "Epoch 97/100\n",
            "448/448 [==============================] - 34s 76ms/step - loss: 0.2914 - accuracy: 0.8972 - val_loss: 1.3139 - val_accuracy: 0.6871\n",
            "Epoch 98/100\n",
            "448/448 [==============================] - 34s 76ms/step - loss: 0.2828 - accuracy: 0.8985 - val_loss: 1.2729 - val_accuracy: 0.6923\n",
            "Epoch 99/100\n",
            "448/448 [==============================] - 34s 76ms/step - loss: 0.2907 - accuracy: 0.8959 - val_loss: 1.2586 - val_accuracy: 0.6977\n",
            "Epoch 100/100\n",
            "448/448 [==============================] - 34s 76ms/step - loss: 0.2836 - accuracy: 0.8991 - val_loss: 1.3453 - val_accuracy: 0.6925\n"
          ]
        }
      ],
      "source": [
        "num_epochs = 100  \n",
        "history = model.fit_generator(train_flow, \n",
        "                    steps_per_epoch=len(X_train) / batch_size, \n",
        "                    epochs=num_epochs,  \n",
        "                    verbose=1,  \n",
        "                    validation_data=test_flow,\n",
        "                    validation_steps=len(X_test) / batch_size)"
      ]
    },
    {
      "cell_type": "code",
      "source": [
        "model.save('/content/drive/MyDrive/FEC - version 2/model_file_improve_100epochs.h5')"
      ],
      "metadata": {
        "id": "Z5PGBrLwSOsQ"
      },
      "execution_count": null,
      "outputs": []
    },
    {
      "cell_type": "code",
      "source": [
        "%matplotlib inline\n",
        "\n",
        "train_loss=history.history['loss']\n",
        "val_loss=history.history['val_loss']\n",
        "train_acc=history.history['accuracy']\n",
        "val_acc=history.history['val_accuracy']\n",
        "\n",
        "epochs = range(len(train_acc))\n",
        "\n",
        "plt.plot(epochs,train_loss,'r', label='train_loss')\n",
        "plt.plot(epochs,val_loss,'b', label='val_loss')\n",
        "plt.title('train_loss vs val_loss')\n",
        "plt.xlabel('epoch')\n",
        "plt.ylabel('loss')\n",
        "plt.legend()\n",
        "plt.figure()\n",
        "\n",
        "plt.plot(epochs,train_acc,'r', label='train_acc')\n",
        "plt.plot(epochs,val_acc,'b', label='val_acc')\n",
        "plt.title('train_acc vs val_acc')\n",
        "plt.xlabel('epoch')\n",
        "plt.ylabel('accuracy')\n",
        "plt.legend()\n",
        "plt.figure()"
      ],
      "metadata": {
        "colab": {
          "base_uri": "https://localhost:8080/",
          "height": 610
        },
        "id": "ZgJ5PG_gSW35",
        "outputId": "329a1cae-8252-409f-b977-00092ab89362"
      },
      "execution_count": null,
      "outputs": [
        {
          "output_type": "execute_result",
          "data": {
            "text/plain": [
              "<Figure size 432x288 with 0 Axes>"
            ]
          },
          "metadata": {},
          "execution_count": 14
        },
        {
          "output_type": "display_data",
          "data": {
            "image/png": "[encoded data removed]",
            "text/plain": [
              "<Figure size 432x288 with 1 Axes>"
            ]
          },
          "metadata": {
            "needs_background": "light"
          }
        },
        {
          "output_type": "display_data",
          "data": {
            "image/png": "[encoded data removed]",
            "text/plain": [
              "<Figure size 432x288 with 1 Axes>"
            ]
          },
          "metadata": {
            "needs_background": "light"
          }
        },
        {
          "output_type": "display_data",
          "data": {
            "text/plain": [
              "<Figure size 432x288 with 0 Axes>"
            ]
          },
          "metadata": {}
        }
      ]
    },
    {
      "cell_type": "code",
      "source": [
        "loss = model.evaluate(X_test/255., y_test) \n",
        "print(\"Test Loss \" + str(loss[0]))\n",
        "print(\"Test Acc: \" + str(loss[1]))"
      ],
      "metadata": {
        "colab": {
          "base_uri": "https://localhost:8080/"
        },
        "id": "hJDFpBXTSgfw",
        "outputId": "867370f0-8021-45b6-86a3-e7091b896f46"
      },
      "execution_count": null,
      "outputs": [
        {
          "output_type": "stream",
          "name": "stdout",
          "text": [
            "225/225 [==============================] - 4s 14ms/step - loss: 1.3453 - accuracy: 0.6925\n",
            "Test Loss 1.3452694416046143\n",
            "Test Acc: 0.6925327181816101\n"
          ]
        }
      ]
    },
    {
      "cell_type": "code",
      "source": [
        "pip install visualkeras"
      ],
      "metadata": {
        "id": "pE2n7jmoL-PM",
        "outputId": "7215c6fa-16cc-41a9-d841-ac46e0d92fb5",
        "colab": {
          "base_uri": "https://localhost:8080/"
        }
      },
      "execution_count": null,
      "outputs": [
        {
          "output_type": "stream",
          "name": "stdout",
          "text": [
            "Collecting visualkeras\n",
            "  Downloading visualkeras-0.0.2-py3-none-any.whl (12 kB)\n",
            "Requirement already satisfied: pillow>=6.2.0 in /usr/local/lib/python3.7/dist-packages (from visualkeras) (7.1.2)\n",
            "Requirement already satisfied: numpy>=1.18.1 in /usr/local/lib/python3.7/dist-packages (from visualkeras) (1.21.5)\n",
            "Collecting aggdraw>=1.3.11\n",
            "  Downloading aggdraw-1.3.14-cp37-cp37m-manylinux_2_17_x86_64.manylinux2014_x86_64.whl (992 kB)\n",
            "\u001b[K     |████████████████████████████████| 992 kB 2.0 MB/s \n",
            "\u001b[?25hInstalling collected packages: aggdraw, visualkeras\n",
            "Successfully installed aggdraw-1.3.14 visualkeras-0.0.2\n"
          ]
        }
      ]
    },
    {
      "cell_type": "code",
      "source": [
        "from PIL import ImageFont\n",
        "import visualkeras\n",
        "\n",
        "model = get_model()\n",
        "visualkeras.layered_view(model, legend=True) "
      ],
      "metadata": {
        "colab": {
          "base_uri": "https://localhost:8080/",
          "height": 1000
        },
        "id": "mIhZ5ShyLjy7",
        "outputId": "bd804c95-e884-4bd9-f298-d211aa028524"
      },
      "execution_count": null,
      "outputs": [
        {
          "output_type": "stream",
          "name": "stdout",
          "text": [
            "Model: \"model\"\n",
            "_________________________________________________________________\n",
            " Layer (type)                Output Shape              Param #   \n",
            "=================================================================\n",
            " input (InputLayer)          [(None, 48, 48, 1)]       0         \n",
            "                                                                 \n",
            " conv1_1 (Conv2D)            (None, 48, 48, 64)        640       \n",
            "                                                                 \n",
            " batch_normalization (BatchN  (None, 48, 48, 64)       256       \n",
            " ormalization)                                                   \n",
            "                                                                 \n",
            " conv1_2 (Conv2D)            (None, 48, 48, 64)        36928     \n",
            "                                                                 \n",
            " batch_normalization_1 (Batc  (None, 48, 48, 64)       256       \n",
            " hNormalization)                                                 \n",
            "                                                                 \n",
            " pool1_1 (MaxPooling2D)      (None, 24, 24, 64)        0         \n",
            "                                                                 \n",
            " drop1_1 (Dropout)           (None, 24, 24, 64)        0         \n",
            "                                                                 \n",
            " conv2_1 (Conv2D)            (None, 24, 24, 128)       73856     \n",
            "                                                                 \n",
            " batch_normalization_2 (Batc  (None, 24, 24, 128)      512       \n",
            " hNormalization)                                                 \n",
            "                                                                 \n",
            " conv2_2 (Conv2D)            (None, 24, 24, 128)       147584    \n",
            "                                                                 \n",
            " batch_normalization_3 (Batc  (None, 24, 24, 128)      512       \n",
            " hNormalization)                                                 \n",
            "                                                                 \n",
            " conv2_3 (Conv2D)            (None, 24, 24, 128)       147584    \n",
            "                                                                 \n",
            " pool2_1 (MaxPooling2D)      (None, 12, 12, 128)       0         \n",
            "                                                                 \n",
            " drop2_1 (Dropout)           (None, 12, 12, 128)       0         \n",
            "                                                                 \n",
            " conv3_1 (Conv2D)            (None, 12, 12, 256)       295168    \n",
            "                                                                 \n",
            " batch_normalization_5 (Batc  (None, 12, 12, 256)      1024      \n",
            " hNormalization)                                                 \n",
            "                                                                 \n",
            " conv3_2 (Conv2D)            (None, 12, 12, 256)       590080    \n",
            "                                                                 \n",
            " batch_normalization_6 (Batc  (None, 12, 12, 256)      1024      \n",
            " hNormalization)                                                 \n",
            "                                                                 \n",
            " conv3_3 (Conv2D)            (None, 12, 12, 256)       590080    \n",
            "                                                                 \n",
            " batch_normalization_7 (Batc  (None, 12, 12, 256)      1024      \n",
            " hNormalization)                                                 \n",
            "                                                                 \n",
            " conv3_4 (Conv2D)            (None, 12, 12, 256)       590080    \n",
            "                                                                 \n",
            " batch_normalization_8 (Batc  (None, 12, 12, 256)      1024      \n",
            " hNormalization)                                                 \n",
            "                                                                 \n",
            " pool3_1 (MaxPooling2D)      (None, 6, 6, 256)         0         \n",
            "                                                                 \n",
            " drop3_1 (Dropout)           (None, 6, 6, 256)         0         \n",
            "                                                                 \n",
            " conv4_1 (Conv2D)            (None, 6, 6, 256)         590080    \n",
            "                                                                 \n",
            " batch_normalization_9 (Batc  (None, 6, 6, 256)        1024      \n",
            " hNormalization)                                                 \n",
            "                                                                 \n",
            " conv4_2 (Conv2D)            (None, 6, 6, 256)         590080    \n",
            "                                                                 \n",
            " batch_normalization_10 (Bat  (None, 6, 6, 256)        1024      \n",
            " chNormalization)                                                \n",
            "                                                                 \n",
            " conv4_3 (Conv2D)            (None, 6, 6, 256)         590080    \n",
            "                                                                 \n",
            " batch_normalization_11 (Bat  (None, 6, 6, 256)        1024      \n",
            " chNormalization)                                                \n",
            "                                                                 \n",
            " conv4_4 (Conv2D)            (None, 6, 6, 256)         590080    \n",
            "                                                                 \n",
            " batch_normalization_12 (Bat  (None, 6, 6, 256)        1024      \n",
            " chNormalization)                                                \n",
            "                                                                 \n",
            " pool4_1 (MaxPooling2D)      (None, 3, 3, 256)         0         \n",
            "                                                                 \n",
            " drop4_1 (Dropout)           (None, 3, 3, 256)         0         \n",
            "                                                                 \n",
            " conv5_1 (Conv2D)            (None, 3, 3, 512)         1180160   \n",
            "                                                                 \n",
            " batch_normalization_13 (Bat  (None, 3, 3, 512)        2048      \n",
            " chNormalization)                                                \n",
            "                                                                 \n",
            " conv5_2 (Conv2D)            (None, 3, 3, 512)         2359808   \n",
            "                                                                 \n",
            " batch_normalization_14 (Bat  (None, 3, 3, 512)        2048      \n",
            " chNormalization)                                                \n",
            "                                                                 \n",
            " conv5_3 (Conv2D)            (None, 3, 3, 512)         2359808   \n",
            "                                                                 \n",
            " batch_normalization_15 (Bat  (None, 3, 3, 512)        2048      \n",
            " chNormalization)                                                \n",
            "                                                                 \n",
            " conv5_4 (Conv2D)            (None, 3, 3, 512)         2359808   \n",
            "                                                                 \n",
            " pool5_1 (MaxPooling2D)      (None, 1, 1, 512)         0         \n",
            "                                                                 \n",
            " drop5_1 (Dropout)           (None, 1, 1, 512)         0         \n",
            "                                                                 \n",
            " flatten (Flatten)           (None, 512)               0         \n",
            "                                                                 \n",
            " output (Dense)              (None, 7)                 3591      \n",
            "                                                                 \n",
            "=================================================================\n",
            "Total params: 13,111,367\n",
            "Trainable params: 13,103,431\n",
            "Non-trainable params: 7,936\n",
            "_________________________________________________________________\n",
            "None\n"
          ]
        },
        {
          "output_type": "execute_result",
          "data": {
            "text/plain": [
              "<PIL.Image.Image image mode=RGBA size=1820x292 at 0x7FA1D91D9450>"
            ],
            "image/png": "[encoded data removed]"
          },
          "metadata": {},
          "execution_count": 5
        }
      ]
    }
  ],
  "metadata": {
    "colab": {
      "name": "FER_improvement",
      "provenance": [],
      "collapsed_sections": []
    },
    "kernelspec": {
      "display_name": "Python 3",
      "name": "python3"
    },
    "language_info": {
      "name": "python"
    }
  },
  "nbformat": 4,
  "nbformat_minor": 0
}